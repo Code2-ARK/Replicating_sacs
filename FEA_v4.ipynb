{
  "nbformat": 4,
  "nbformat_minor": 0,
  "metadata": {
    "colab": {
      "provenance": [],
      "toc_visible": true
    },
    "kernelspec": {
      "name": "python3",
      "display_name": "Python 3"
    },
    "language_info": {
      "name": "python"
    }
  },
  "cells": [
    {
      "cell_type": "markdown",
      "source": [
        "# Code Functionality\n",
        "\n",
        "This code takes nodes as input , connects the consecutive nodes to form elements. Then assembles the global stiffness matrix . This code is considers 3 DOF at each node but can be extended to 6 DOF considering rotations. The user can input forces at node and define the BC. The code then solves and outputs the displacements and reaction forces"
      ],
      "metadata": {
        "id": "MhS8Jc89RnfH"
      }
    },
    {
      "cell_type": "markdown",
      "source": [
        "Modification to previous version\n",
        "\n",
        "*   Forces as class\n",
        "*   BC as class\n",
        "\n"
      ],
      "metadata": {
        "id": "lpY1x1mZSnW5"
      }
    },
    {
      "cell_type": "code",
      "execution_count": 37,
      "metadata": {
        "id": "_3GDhZQcyavd"
      },
      "outputs": [],
      "source": [
        "import numpy as np\n",
        "import matplotlib.pyplot as plt\n"
      ]
    },
    {
      "cell_type": "code",
      "source": [
        "#------------------------CLASS NODE-----------------------------------\n",
        "\n",
        "class Node:\n",
        "\n",
        "  def __init__(self,x,y,z): ##inputs 3 coordinates\n",
        "    self.coord=np.array([x,y,z])\n",
        "\n",
        "#------------------------CLASS ELEMENT-----------------------------------\n",
        "## creates one-D element from the coordinates and plots\n",
        "class element:\n",
        "  global dof #number of degrees pf freedom for rach node\n",
        "  dof=3 #number of degrees of freedom per node\n",
        "  def __init__(self,node_1,node_2,stiffness,area):\n",
        "    self.node1=node_1\n",
        "    self.node2=node_2\n",
        "    self.E=stiffness\n",
        "    self.A=area\n",
        "    self.dof = dof # Assign dof to instance attribute\n",
        "\n",
        "    self.L,self.n=self.cal_length()\n",
        "    self.k_local=self.local_stiffness()\n",
        "\n",
        "    # print('\\n')\n",
        "    # print(f\"Local k matrix size:{self.dof*2}\")\n",
        "    # print('\\n')\n",
        "    # print(f\"local stiffness matrix:\\n {self.k_local}\")\n",
        "    # print('\\n')\n",
        "    # # self.plot_ele()\n",
        "\n",
        "\n",
        "#-----------------function to calculate the dimensions--------------\n",
        "  def cal_length(self):\n",
        "      L_vec=self.node1.coord-self.node2.coord #difference between coordinate\n",
        "      length=np.linalg.norm(L_vec) ##length magnitude\n",
        "      norm_L=L_vec/length ##direction cosine\n",
        "      return length, norm_L\n",
        "\n",
        "   ##--------assembling global stiffness matrix--------\n",
        "  def local_stiffness(self):\n",
        "\n",
        "    total_dof = self.dof *2 #number of degrees of freedom per node multiplied ny total number of nodes\n",
        "    k = np.zeros((total_dof, total_dof))\n",
        "    k_local = self.E * self.A / self.L * np.outer(self.n, self.n)\n",
        "        # 2-node local matrix because considers only one element\n",
        "    k = np.zeros((total_dof, total_dof))\n",
        "    k[:self.dof, :self.dof] = k_local\n",
        "    k[:self.dof, self.dof:] = -k_local\n",
        "    k[self.dof:, :self.dof] = -k_local\n",
        "    k[self.dof:, self.dof:] = k_local\n",
        "    return k\n"
      ],
      "metadata": {
        "id": "R6eBHxXfyfM8"
      },
      "execution_count": 38,
      "outputs": []
    },
    {
      "cell_type": "code",
      "source": [
        "class structure:\n",
        "\n",
        "  def __init__(self,nodes,elements):\n",
        "    self.nodes=nodes\n",
        "    self.elements=elements\n",
        "    self.dof = dof # Assign dof to instance attribute\n",
        "    self.n_dof=len(nodes)*self.dof\n",
        "    self.K_global=np.zeros((self.n_dof,self.n_dof))\n",
        "    self.F=np.zeros(self.n_dof)\n",
        "    self.U=np.zeros(self.n_dof)\n",
        "    self.k_global=self.assemble_global_stiffness(self.dof)\n",
        "\n",
        "\n",
        "    print(\"\\n\")\n",
        "    #print(f\"the force applied is :{self.forceapplied}\")\n",
        "    # print(f\"Size of global stiffness matrix is :\\n {self.k_global.shape}\")\n",
        "    # print(\"\\n\")\n",
        "    print(f\"global stiffness matrix is :\\n {self.k_global}\")\n",
        "  def assemble_global_stiffness(self, m=dof):\n",
        "    for elem in self.elements:\n",
        "        k = elem.k_local\n",
        "        i = self.nodes.index(elem.node1)\n",
        "        j = self.nodes.index(elem.node2)\n",
        "        dof_lo = [i*m + r for r in range(m)] + [j*m + r for r in range(m)]\n",
        "        for a in range(2*m):\n",
        "            for b in range(2*m):\n",
        "                self.K_global[dof_lo[a], dof_lo[b]] += k[a, b]\n",
        "    return self.K_global\n",
        "\n",
        "  def apply_force(self, node_id, fx=0,fy=0,fz=0):\n",
        "        self.F[node_id*dof] += fx\n",
        "        self.F[node_id*dof + 1] += fy\n",
        "        self.F[node_id*dof + 2] += fz\n",
        "        return print(f\"\\n input force is :{self.F}\\n\")\n",
        "\n",
        "  def apply_boundary_condition(self, fixed_dof):\n",
        "        self.fixed_dof = fixed_dof\n",
        "\n",
        "  def solve(self):\n",
        "        all_dof = np.arange(self.K_global.shape[0])\n",
        "        free_dof = np.setdiff1d(all_dof, self.fixed_dof)\n",
        "        K=self.K_global\n",
        "        K_ff = K[np.ix_(free_dof, free_dof)]\n",
        "        F_f = self.F[free_dof]\n",
        "        U_f = np.linalg.solve(K_ff, F_f)\n",
        "        self.U[free_dof] = U_f\n",
        "        self.R = K.dot(self.U) - self.F\n",
        "        return self.U, self.R\n",
        "        #return print(f\"all dof :{all_dof}\"),print(f\"free dof :{free_dof}\")\n"
      ],
      "metadata": {
        "id": "fc__fJsUHPU8"
      },
      "execution_count": 39,
      "outputs": []
    },
    {
      "cell_type": "markdown",
      "source": [
        "## Function to plot graph"
      ],
      "metadata": {
        "id": "dqVJaotIasyh"
      }
    },
    {
      "cell_type": "code",
      "source": [
        "# Collect undeformed coordinates\n",
        "def plot_graph(nodes,U):\n",
        "  x_undeformed = [node.coord[0] for node in nodes]\n",
        "  y_undeformed = [node.coord[1] for node in nodes]\n",
        "  z_undeformed = [node.coord[2] for node in nodes]\n",
        "\n",
        "  scale=1e5\n",
        "  x_deformed = []\n",
        "  y_deformed = []\n",
        "  z_deformed = []\n",
        "\n",
        "  for i, node in enumerate(nodes):\n",
        "    # u has 3 DOFs per node (X,Y,Z)\n",
        "    ux = U[i*3]\n",
        "    uy = U[i*3 + 1]\n",
        "    uz = U[i*3 + 2] # uncomment if needed\n",
        "\n",
        "    x_deformed.append(node.coord[0] + scale*ux)\n",
        "    y_deformed.append(node.coord[1] + scale*uy)\n",
        "    z_deformed.append(node.coord[2] + scale*uz) # uncomment if needed\n",
        "  return x_undeformed,y_undeformed,z_undeformed,x_deformed,y_deformed,z_deformed"
      ],
      "metadata": {
        "id": "e3PENwWpZ50w"
      },
      "execution_count": 88,
      "outputs": []
    },
    {
      "cell_type": "markdown",
      "source": [
        "##  input values 1"
      ],
      "metadata": {
        "id": "9tEDfLOS54No"
      }
    },
    {
      "cell_type": "code",
      "source": [
        "\n",
        "## input nodes\n",
        "n1 =Node(0,0,0)\n",
        "n2 =Node(3,0,0)\n",
        "n3=Node(3,3,0)\n",
        "n4=Node(0,3,0)\n",
        "nodes=[n1,n2,n3,n4]\n",
        "## create elements by connecting the nodes\n",
        "\n",
        "e1 = element(n1,n2, 210e9, 0.001)\n",
        "e2 = element(n2,n3, 10e9, 0.6)\n",
        "e3 = element(n3,n4, 210e9, 0.001)\n",
        "e4 = element(n4,n1, 210e9, 0.001)\n",
        "\n",
        "elements=[e1,e2,e3,e4]\n",
        "\n",
        "model=structure(nodes,elements)\n",
        "\n",
        "# # Assemble stiffness\n",
        "K = model.assemble_global_stiffness()\n",
        "\n",
        "# Apply loads\n",
        "model.apply_force(2, fx=-1000)  # Fx at Node 3\n",
        "model.apply_force(1, fx=1000)  # Fx at Node 2\n",
        "model.apply_force(1, fy=-1000)  # Fx at Node 2\n",
        "# Apply boundary conditions (fix Node 1)\n",
        "model.apply_boundary_condition([0,1,2,5,7,8,9,11])\n",
        "\n",
        "# Solve\n",
        "U,R=model.solve()\n",
        "\n",
        "\n",
        "\n",
        "print(\"\\n Displacements:\\n\", U)\n",
        "print(\"\\n Reactions:\\n\", R)\n",
        "\n",
        "x_undeformed,y_undeformed,z_undeformed,x_deformed,y_deformed,z_deformed=plot_graph(nodes,U)\n",
        "plt.figure(figsize=(10, 6))\n",
        "plt.plot(x_undeformed, y_undeformed, 'k-', label='Undeformed')\n",
        "plt.scatter(x_undeformed, y_undeformed, c='k')\n",
        "\n",
        "plt.plot(x_deformed, y_deformed, 'r--', label='Deformed')\n",
        "plt.scatter(x_deformed, y_deformed, c='r')\n",
        "plt.legend()\n",
        "plt.show()"
      ],
      "metadata": {
        "colab": {
          "base_uri": "https://localhost:8080/",
          "height": 1000
        },
        "collapsed": true,
        "id": "U9kAJIsay5es",
        "outputId": "4a9e143f-2531-4b38-b2f9-2041681e3f5d"
      },
      "execution_count": 89,
      "outputs": [
        {
          "output_type": "stream",
          "name": "stdout",
          "text": [
            "\n",
            "\n",
            "global stiffness matrix is :\n",
            " [[ 7.e+07  0.e+00  0.e+00 -7.e+07  0.e+00  0.e+00  0.e+00  0.e+00  0.e+00\n",
            "   0.e+00  0.e+00  0.e+00]\n",
            " [ 0.e+00  7.e+07  0.e+00  0.e+00  0.e+00  0.e+00  0.e+00  0.e+00  0.e+00\n",
            "   0.e+00 -7.e+07  0.e+00]\n",
            " [ 0.e+00  0.e+00  0.e+00  0.e+00  0.e+00  0.e+00  0.e+00  0.e+00  0.e+00\n",
            "   0.e+00  0.e+00  0.e+00]\n",
            " [-7.e+07  0.e+00  0.e+00  7.e+07  0.e+00  0.e+00  0.e+00  0.e+00  0.e+00\n",
            "   0.e+00  0.e+00  0.e+00]\n",
            " [ 0.e+00  0.e+00  0.e+00  0.e+00  2.e+09  0.e+00  0.e+00 -2.e+09  0.e+00\n",
            "   0.e+00  0.e+00  0.e+00]\n",
            " [ 0.e+00  0.e+00  0.e+00  0.e+00  0.e+00  0.e+00  0.e+00  0.e+00  0.e+00\n",
            "   0.e+00  0.e+00  0.e+00]\n",
            " [ 0.e+00  0.e+00  0.e+00  0.e+00  0.e+00  0.e+00  7.e+07  0.e+00  0.e+00\n",
            "  -7.e+07  0.e+00  0.e+00]\n",
            " [ 0.e+00  0.e+00  0.e+00  0.e+00 -2.e+09  0.e+00  0.e+00  2.e+09  0.e+00\n",
            "   0.e+00  0.e+00  0.e+00]\n",
            " [ 0.e+00  0.e+00  0.e+00  0.e+00  0.e+00  0.e+00  0.e+00  0.e+00  0.e+00\n",
            "   0.e+00  0.e+00  0.e+00]\n",
            " [ 0.e+00  0.e+00  0.e+00  0.e+00  0.e+00  0.e+00 -7.e+07  0.e+00  0.e+00\n",
            "   7.e+07  0.e+00  0.e+00]\n",
            " [ 0.e+00 -7.e+07  0.e+00  0.e+00  0.e+00  0.e+00  0.e+00  0.e+00  0.e+00\n",
            "   0.e+00  7.e+07  0.e+00]\n",
            " [ 0.e+00  0.e+00  0.e+00  0.e+00  0.e+00  0.e+00  0.e+00  0.e+00  0.e+00\n",
            "   0.e+00  0.e+00  0.e+00]]\n",
            "\n",
            " input force is :[    0.     0.     0.     0.     0.     0. -1000.     0.     0.     0.\n",
            "     0.     0.]\n",
            "\n",
            "\n",
            " input force is :[    0.     0.     0.  1000.     0.     0. -1000.     0.     0.     0.\n",
            "     0.     0.]\n",
            "\n",
            "\n",
            " input force is :[    0.     0.     0.  1000. -1000.     0. -1000.     0.     0.     0.\n",
            "     0.     0.]\n",
            "\n",
            "\n",
            " Displacements:\n",
            " [ 0.00000000e+00  0.00000000e+00  0.00000000e+00  7.14285714e-06\n",
            " -2.50000000e-07  0.00000000e+00 -7.14285714e-06  0.00000000e+00\n",
            "  0.00000000e+00  0.00000000e+00  0.00000000e+00  0.00000000e+00]\n",
            "\n",
            " Reactions:\n",
            " [-1000.     0.     0.     0.     0.     0.     0.  1000.     0.  1000.\n",
            "     0.     0.]\n"
          ]
        },
        {
          "output_type": "display_data",
          "data": {
            "text/plain": [
              "<Figure size 1000x600 with 1 Axes>"
            ],
            "image/png": "[encoded data removed]"
          },
          "metadata": {}
        }
      ]
    },
    {
      "cell_type": "markdown",
      "source": [
        "# Input values 2"
      ],
      "metadata": {
        "id": "9CFZ1latb2ZG"
      }
    },
    {
      "cell_type": "code",
      "source": [
        "\n",
        "## input nodes\n",
        "n1 =Node(0,0,0)\n",
        "n2 =Node(3,0,0)\n",
        "n3=Node(9,0,0)\n",
        "\n",
        "nodes=[n1,n2,n3]\n",
        "## create elements by connecting the nodes\n",
        "\n",
        "e1 = element(n1,n2, 210e9, 0.01)\n",
        "e2 = element(n2,n3, 210e9, 0.01)\n",
        "\n",
        "\n",
        "elements=[e1,e2]\n",
        "\n",
        "model=structure(nodes,elements)\n",
        "\n",
        "# # Assemble stiffness\n",
        "K = model.assemble_global_stiffness()\n",
        "\n",
        "# Apply loads\n",
        "model.apply_force(2, fx=-1000)\n",
        "\n",
        "model.apply_boundary_condition([0,1,2,4,5,7,8])\n",
        "\n",
        "# Solve\n",
        "U,R=model.solve()\n",
        "\n",
        "\n",
        "\n",
        "print(\"\\n Displacements:\\n\", U)\n",
        "print(\"\\n Reactions:\\n\", R)\n",
        "\n",
        "x_undeformed,y_undeformed,x_deformed,y_deformed=plot_graph(nodes,U)\n",
        "plt.figure(figsize=(10, 6))\n",
        "plt.plot(x_undeformed, y_undeformed, 'k-', label='Undeformed')\n",
        "plt.scatter(x_undeformed, y_undeformed, c='k')\n",
        "\n",
        "plt.plot(x_deformed, y_deformed, 'r--', label='Deformed')\n",
        "plt.scatter(x_deformed, y_deformed, c='r')\n",
        "plt.legend()\n",
        "plt.show()"
      ],
      "metadata": {
        "colab": {
          "base_uri": "https://localhost:8080/",
          "height": 1000
        },
        "id": "dtoJBsBcbBss",
        "outputId": "4e86b95d-8c82-46e9-d734-f43a0b348c42"
      },
      "execution_count": 70,
      "outputs": [
        {
          "output_type": "stream",
          "name": "stdout",
          "text": [
            "\n",
            "\n",
            "global stiffness matrix is :\n",
            " [[ 7.00e+08  0.00e+00  0.00e+00 -7.00e+08  0.00e+00  0.00e+00  0.00e+00\n",
            "   0.00e+00  0.00e+00]\n",
            " [ 0.00e+00  0.00e+00  0.00e+00  0.00e+00  0.00e+00  0.00e+00  0.00e+00\n",
            "   0.00e+00  0.00e+00]\n",
            " [ 0.00e+00  0.00e+00  0.00e+00  0.00e+00  0.00e+00  0.00e+00  0.00e+00\n",
            "   0.00e+00  0.00e+00]\n",
            " [-7.00e+08  0.00e+00  0.00e+00  1.05e+09  0.00e+00  0.00e+00 -3.50e+08\n",
            "   0.00e+00  0.00e+00]\n",
            " [ 0.00e+00  0.00e+00  0.00e+00  0.00e+00  0.00e+00  0.00e+00  0.00e+00\n",
            "   0.00e+00  0.00e+00]\n",
            " [ 0.00e+00  0.00e+00  0.00e+00  0.00e+00  0.00e+00  0.00e+00  0.00e+00\n",
            "   0.00e+00  0.00e+00]\n",
            " [ 0.00e+00  0.00e+00  0.00e+00 -3.50e+08  0.00e+00  0.00e+00  3.50e+08\n",
            "   0.00e+00  0.00e+00]\n",
            " [ 0.00e+00  0.00e+00  0.00e+00  0.00e+00  0.00e+00  0.00e+00  0.00e+00\n",
            "   0.00e+00  0.00e+00]\n",
            " [ 0.00e+00  0.00e+00  0.00e+00  0.00e+00  0.00e+00  0.00e+00  0.00e+00\n",
            "   0.00e+00  0.00e+00]]\n",
            "\n",
            " input force is :[    0.     0.     0.     0.     0.     0. -1000.     0.     0.]\n",
            "\n",
            "\n",
            " Displacements:\n",
            " [ 0.00000000e+00  0.00000000e+00  0.00000000e+00 -7.14285714e-07\n",
            "  0.00000000e+00  0.00000000e+00 -2.14285714e-06  0.00000000e+00\n",
            "  0.00000000e+00]\n",
            "\n",
            " Reactions:\n",
            " [1000.    0.    0.    0.    0.    0.    0.    0.    0.]\n"
          ]
        },
        {
          "output_type": "display_data",
          "data": {
            "text/plain": [
              "<Figure size 1000x600 with 1 Axes>"
            ],
            "image/png": "[encoded data removed]"
          },
          "metadata": {}
        }
      ]
    },
    {
      "cell_type": "markdown",
      "source": [
        "# Input 3"
      ],
      "metadata": {
        "id": "8krsOHprfJnY"
      }
    },
    {
      "cell_type": "code",
      "source": [
        "\n",
        "## input nodes\n",
        "n1 =Node(0,0,0)\n",
        "n2 =Node(0,3,0)\n",
        "\n",
        "\n",
        "nodes=[n1,n2]\n",
        "## create elements by connecting the nodes\n",
        "\n",
        "e1 = element(n1,n2, 210e9, 0.01)\n",
        "e2 = element(n2,n3, 210e9, 0.01)\n",
        "\n",
        "\n",
        "elements=[e1]\n",
        "\n",
        "model=structure(nodes,elements)\n",
        "\n",
        "# # Assemble stiffness\n",
        "K = model.assemble_global_stiffness()\n",
        "\n",
        "# Apply loads\n",
        "model.apply_force(1, fy=-1000)\n",
        "\n",
        "model.apply_boundary_condition([0,1,2,3,5])\n",
        "\n",
        "# Solve\n",
        "U,R=model.solve()\n",
        "\n",
        "\n",
        "\n",
        "print(\"\\n Displacements:\\n\", U)\n",
        "print(\"\\n Reactions:\\n\", R)\n",
        "\n",
        "x_undeformed,y_undeformed,x_deformed,y_deformed=plot_graph(nodes,U)\n",
        "plt.figure(figsize=(10, 6))\n",
        "plt.plot(x_undeformed, y_undeformed, 'k-', label='Undeformed')\n",
        "plt.scatter(x_undeformed, y_undeformed, c='k')\n",
        "\n",
        "plt.plot(x_deformed, y_deformed, 'r--', label='Deformed')\n",
        "plt.scatter(x_deformed, y_deformed, c='r')\n",
        "plt.legend()\n",
        "plt.show()"
      ],
      "metadata": {
        "colab": {
          "base_uri": "https://localhost:8080/",
          "height": 852
        },
        "id": "VDEJWnBhfJMv",
        "outputId": "15fa8a85-ebae-4e4f-dd70-df70c9927127"
      },
      "execution_count": 79,
      "outputs": [
        {
          "output_type": "stream",
          "name": "stdout",
          "text": [
            "\n",
            "\n",
            "global stiffness matrix is :\n",
            " [[ 0.e+00  0.e+00  0.e+00  0.e+00  0.e+00  0.e+00]\n",
            " [ 0.e+00  7.e+08  0.e+00  0.e+00 -7.e+08  0.e+00]\n",
            " [ 0.e+00  0.e+00  0.e+00  0.e+00  0.e+00  0.e+00]\n",
            " [ 0.e+00  0.e+00  0.e+00  0.e+00  0.e+00  0.e+00]\n",
            " [ 0.e+00 -7.e+08  0.e+00  0.e+00  7.e+08  0.e+00]\n",
            " [ 0.e+00  0.e+00  0.e+00  0.e+00  0.e+00  0.e+00]]\n",
            "\n",
            " input force is :[    0.     0.     0.     0. -1000.     0.]\n",
            "\n",
            "\n",
            " Displacements:\n",
            " [ 0.00000000e+00  0.00000000e+00  0.00000000e+00  0.00000000e+00\n",
            " -7.14285714e-07  0.00000000e+00]\n",
            "\n",
            " Reactions:\n",
            " [   0. 1000.    0.    0.    0.    0.]\n"
          ]
        },
        {
          "output_type": "display_data",
          "data": {
            "text/plain": [
              "<Figure size 1000x600 with 1 Axes>"
            ],
            "image/png": "[encoded data removed]"
          },
          "metadata": {}
        }
      ]
    }
  ]
}