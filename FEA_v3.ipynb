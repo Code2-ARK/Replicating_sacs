{
  "nbformat": 4,
  "nbformat_minor": 0,
  "metadata": {
    "colab": {
      "provenance": [],
      "toc_visible": true
    },
    "kernelspec": {
      "name": "python3",
      "display_name": "Python 3"
    },
    "language_info": {
      "name": "python"
    }
  },
  "cells": [
    {
      "cell_type": "markdown",
      "source": [
        "# Code Functionality\n",
        "\n",
        "This code takes nodes as input , connects the consecutive nodes to form elements. Then assembles the global stiffness matrix . This code is considers 3 DOF at each node but can be extended to 6 DOF considering rotations. The user can input forces at node and define the BC. The code then solves and outputs the displacements and reaction forces"
      ],
      "metadata": {
        "id": "MhS8Jc89RnfH"
      }
    },
    {
      "cell_type": "code",
      "execution_count": 1,
      "metadata": {
        "id": "_3GDhZQcyavd"
      },
      "outputs": [],
      "source": [
        "import numpy as np\n",
        "import matplotlib.pyplot as plt\n"
      ]
    },
    {
      "cell_type": "code",
      "source": [
        "\n",
        "#------------------------CLASS NODE-----------------------------------\n",
        "class Node:\n",
        "\n",
        "  def __init__(self,x,y): ##inputs 2 coordinates\n",
        "    self.coord=np.array([x,y])\n",
        "\n",
        "\n",
        "\n",
        "#------------------------CLASS ELEMENT-----------------------------------\n",
        "## creates one-D element from the coordinates and plots\n",
        "class element:\n",
        "  def __init__(self,nodes,stiffness,area):\n",
        "    self.nodes=nodes ##node is a list\n",
        "    self.nnodes=len(nodes) ## number of nodes based on the input\n",
        "    self.space_dimensions=len(self.nodes[0].coord) #number of inputes, (x,y) or (x,y,z)\n",
        "    self.dof=self.space_dimensions*1 ##calculates number of dof 1, if only translation , 2 if both translation and rotation\n",
        "    self.k_dimension=self.nnodes*self.dof ##dimension of the stiffness matrix\n",
        "    self.ele_length,self.ele_norm=self.cal_length()\n",
        "    self.E=stiffness\n",
        "    self.A=area\n",
        "    self.k_global=self.global_stiffness()\n",
        "  #--------------for plotting and printing---------------------\n",
        "    print(f\"-------Checking the Input----------:\\n\")\n",
        "    # print(f\"-------Geometry Properties----------:\\n\")\n",
        "    # print(f\"Number of nodes: {self.nnodes}\")\n",
        "    # print(f\"Number of coordinates: {self.space_dimensions}\\n\")\n",
        "    # print(f\"Number of DOF: {self.dof}\\n\")\n",
        "    print(f\"Dimension of the stiffness (global K) matrix: {self.k_dimension}\\n\")\n",
        "\n",
        "\n",
        "  #   print(f\"-------Material Properties----------:\\n\")\n",
        "  #   print(f\"Youngs Modulus [Pa]: {self.E}\")\n",
        "  #   print(f\"Element CSA [m^2]: {self.A}\")\n",
        "  #  # print(f\"------------------------------:\\n\")\n",
        "\n",
        "    print(f\"-------element Properties----------:\\n\")\n",
        "    for i in range(self.nnodes-1):\n",
        "     # print(f\"Node {i+1} coordinate: {self.nodes[i].coord}\")\n",
        "      print(f\"Element {i+1} Length [m]: {self.ele_length[i]}\")\n",
        "      print(f\"Element {i+1} Direction Cosine: {self.ele_norm[i]}\")\n",
        "    print(f\"------------------------------:\\n\")\n",
        "\n",
        "    print(f\"-------Stiffness Matrix----------:\\n\")\n",
        "    print(f\"Global K dimension :\\n {self.k_dimension}\")\n",
        "\n",
        "    #print(f\"k_local :\\n {self.k_local}\")\n",
        "    print(f\" Global Stiffness: \\n {self.k_global}\")\n",
        "    print(f\"------------------------------:\\n\")\n",
        "\n",
        "\n",
        "    self.plot_ele()\n",
        "#-----------------function to calculate the dimensions--------------\n",
        "  def cal_length(self):\n",
        "      L_vec_list = []\n",
        "      length_list = []\n",
        "      norm_list = []\n",
        "      for n in range((self.nnodes)-1):\n",
        "        L_vec=self.nodes[n+1].coord-self.nodes[n].coord #difference between coordinate\n",
        "        length=np.linalg.norm(L_vec) ##length magnitude\n",
        "        norm_L=L_vec/length ##direction cosine\n",
        "        length_list.append(length)\n",
        "        L_vec_list.append(L_vec)\n",
        "        norm_list.append(norm_L)\n",
        "      return np.array(length_list), np.array(norm_list)\n",
        "\n",
        "   ##--------assembling global stiffness matrix--------\n",
        "  def global_stiffness(self):\n",
        "    n_elem = len(self.ele_length)\n",
        "    total_dof = self.dof * (n_elem + 1)\n",
        "    K_global = np.zeros((total_dof, total_dof))\n",
        "    for i in range(n_elem):\n",
        "        L = self.ele_length[i]\n",
        "        n = self.ele_norm[i]\n",
        "        k_local = self.E * self.A / L * np.outer(n, n)\n",
        "        # 2-node local matrix because considers only one element\n",
        "        k = np.zeros((2*self.dof, 2*self.dof))\n",
        "        k[:self.dof, :self.dof] = k_local\n",
        "        k[:self.dof, self.dof:] = -k_local\n",
        "        k[self.dof:, :self.dof] = -k_local\n",
        "        k[self.dof:, self.dof:] = k_local\n",
        "        # Assemble into the full multi-node stiffness\n",
        "        start = i * self.dof\n",
        "        end = (i + 2) * self.dof\n",
        "        K_global[start:end, start:end] += k\n",
        "    return K_global\n",
        "  #-----------------------function to plot------------------------------------\n",
        "  def plot_ele(self,show=True):\n",
        "    for n in range((self.nnodes)-1):\n",
        "      x_values=[self.nodes[n].coord[0], self.nodes[n+1].coord[0]]\n",
        "      y_values=[self.nodes[n].coord[1], self.nodes[n+1].coord[1]]\n",
        "      plt.scatter(x_values,y_values,color='blue')\n",
        "      plt.plot(x_values,y_values,'--',color='black')\n",
        "    if show:\n",
        "            plt.xlabel('X')\n",
        "            plt.ylabel('Y')\n",
        "            plt.title('Structure')\n",
        "            plt.grid(True)\n",
        "            plt.axis('equal')\n",
        "            plt.show()\n"
      ],
      "metadata": {
        "id": "R6eBHxXfyfM8"
      },
      "execution_count": 2,
      "outputs": []
    },
    {
      "cell_type": "markdown",
      "source": [
        "##  input values"
      ],
      "metadata": {
        "id": "9tEDfLOS54No"
      }
    },
    {
      "cell_type": "code",
      "source": [
        "n1 =Node(0,0)\n",
        "n2 =Node(3,0)\n",
        "n3=Node(9,0)\n",
        "\n",
        "\n",
        "nodes = [n1,n2]\n",
        "e1 = element(nodes, 210e9, 0.01)\n",
        "\n"
      ],
      "metadata": {
        "colab": {
          "base_uri": "https://localhost:8080/",
          "height": 836
        },
        "collapsed": true,
        "id": "U9kAJIsay5es",
        "outputId": "6517c181-bb57-4756-97d7-7c062d92aee8"
      },
      "execution_count": 3,
      "outputs": [
        {
          "output_type": "stream",
          "name": "stdout",
          "text": [
            "-------Checking the Input----------:\n",
            "\n",
            "Dimension of the stiffness (global K) matrix: 4\n",
            "\n",
            "-------element Properties----------:\n",
            "\n",
            "Element 1 Length [m]: 3.0\n",
            "Element 1 Direction Cosine: [1. 0.]\n",
            "------------------------------:\n",
            "\n",
            "-------Stiffness Matrix----------:\n",
            "\n",
            "Global K dimension :\n",
            " 4\n",
            " Global Stiffness: \n",
            " [[ 7.e+08  0.e+00 -7.e+08  0.e+00]\n",
            " [ 0.e+00  0.e+00  0.e+00  0.e+00]\n",
            " [-7.e+08  0.e+00  7.e+08  0.e+00]\n",
            " [ 0.e+00  0.e+00  0.e+00  0.e+00]]\n",
            "------------------------------:\n",
            "\n"
          ]
        },
        {
          "output_type": "display_data",
          "data": {
            "text/plain": [
              "<Figure size 640x480 with 1 Axes>"
            ],
            "image/png": "[encoded data removed]"
          },
          "metadata": {}
        }
      ]
    },
    {
      "cell_type": "code",
      "source": [
        "class force:\n",
        "  def __init__(self,nodes,value):\n",
        "    self.nodes=nodes\n",
        "    self.value=value"
      ],
      "metadata": {
        "id": "b8KKVeKDaFDj"
      },
      "execution_count": 4,
      "outputs": []
    },
    {
      "cell_type": "code",
      "source": [
        "K = e1.global_stiffness()\n",
        "\n",
        "num_nodes=e1.nnodes\n",
        "num_dof=e1.dof\n",
        "nn=e1.nodes\n",
        "\n"
      ],
      "metadata": {
        "id": "2KicV7uwZS3T"
      },
      "execution_count": 5,
      "outputs": []
    },
    {
      "cell_type": "markdown",
      "source": [
        "## apply force"
      ],
      "metadata": {
        "id": "fVEQzvGf2Qsh"
      }
    },
    {
      "cell_type": "code",
      "source": [
        "if K.shape[0]==K.shape[1]:\n",
        "   F=np.zeros(K.shape[0])\n",
        "F[2]=1000\n",
        "print(F)\n",
        "fixed_dof = [0, 1,3,4,5] # Node 1 fixed in x and y, Node 3 fixed in y"
      ],
      "metadata": {
        "colab": {
          "base_uri": "https://localhost:8080/"
        },
        "id": "7Jq2iSIehFVX",
        "outputId": "ee407e04-15bf-4523-ccee-083ca09817b0"
      },
      "execution_count": 6,
      "outputs": [
        {
          "output_type": "stream",
          "name": "stdout",
          "text": [
            "[   0.    0. 1000.    0.]\n"
          ]
        }
      ]
    },
    {
      "cell_type": "markdown",
      "source": [
        "## Apply BC"
      ],
      "metadata": {
        "id": "79eNFhK02TrP"
      }
    },
    {
      "cell_type": "code",
      "source": [
        "def apply_boundary_conditions(K, F, fixed_dof):\n",
        "    all_dof = np.arange(K.shape[0])               # all indices\n",
        "    free_dof = np.setdiff1d(all_dof, fixed_dof)   # removes constrained ones\n",
        "    K_ff = K[np.ix_(free_dof, free_dof)]          # reduced stiffness matrix\n",
        "    F_f = F[free_dof]                             # reduced force vector\n",
        "    return K_ff, F_f, free_dof\n",
        "\n"
      ],
      "metadata": {
        "id": "xYEkSNVhbIz-"
      },
      "execution_count": 7,
      "outputs": []
    },
    {
      "cell_type": "code",
      "source": [
        "#apply_boundary_conditions(K, F, fixed_dof)"
      ],
      "metadata": {
        "id": "6Ky9JcBuirAN"
      },
      "execution_count": null,
      "outputs": []
    },
    {
      "cell_type": "markdown",
      "source": [
        "## Solving"
      ],
      "metadata": {
        "id": "kXRR1O272dYP"
      }
    },
    {
      "cell_type": "code",
      "source": [
        "K_ff, F_f, free_dof = apply_boundary_conditions(K, F, fixed_dof)\n",
        "u_f = np.linalg.solve(K_ff, F_f)\n",
        "u = np.zeros(K.shape[0])\n",
        "u[free_dof] = u_f\n",
        "R = K.dot(u) - F\n",
        "\n",
        "print(\"Displacements:\\n\", u)\n",
        "print(\"Reactions:\\n\", R)"
      ],
      "metadata": {
        "colab": {
          "base_uri": "https://localhost:8080/"
        },
        "id": "JP8peA-Dis-B",
        "outputId": "af22b329-c452-4789-fc59-399f7fac3db6"
      },
      "execution_count": 8,
      "outputs": [
        {
          "output_type": "stream",
          "name": "stdout",
          "text": [
            "Displacements:\n",
            " [0.00000000e+00 0.00000000e+00 1.42857143e-06 0.00000000e+00]\n",
            "Reactions:\n",
            " [-1000.     0.     0.     0.]\n"
          ]
        }
      ]
    },
    {
      "cell_type": "markdown",
      "source": [
        "## Plotting deformed and undeformed"
      ],
      "metadata": {
        "id": "8RpzdzMm2gCJ"
      }
    },
    {
      "cell_type": "code",
      "source": [
        "\n",
        "# Scale factor to visualize tiny displacements\n",
        "scale = 1e5\n",
        "\n",
        "# Collect undeformed coordinates\n",
        "x_undeformed = [node.coord[0] for node in nn]\n",
        "y_undeformed = [node.coord[1] for node in nn]\n",
        "\n",
        "\n",
        "x_deformed = []\n",
        "y_deformed = []\n",
        "\n",
        "for i, node in enumerate(nn):\n",
        "    # u has 2 DOFs per node (X,Y)\n",
        "    ux = u[i*2]\n",
        "    uy = u[i*2 + 1]\n",
        "    x_deformed.append(node.coord[0] + scale*ux)\n",
        "    y_deformed.append(node.coord[1] + scale*uy)\n",
        "\n",
        "plt.figure(figsize=(6,6))\n",
        "\n",
        "# Undeformed\n",
        "plt.plot(x_undeformed, y_undeformed, 'bo-', label='Undeformed')\n",
        "\n",
        "# Deformed\n",
        "plt.plot(x_deformed, y_deformed, 'ro--', label='Deformed')\n",
        "\n",
        "plt.xlabel('X [m]')\n",
        "plt.ylabel('Y [m]')\n",
        "plt.title('Element Deformation')\n",
        "plt.legend()\n",
        "plt.grid(True)\n",
        "plt.axis('equal')\n",
        "plt.show()\n"
      ],
      "metadata": {
        "colab": {
          "base_uri": "https://localhost:8080/",
          "height": 564
        },
        "id": "5TECRHY6zLvy",
        "outputId": "61836b38-1f82-4652-bceb-5294b3828104"
      },
      "execution_count": null,
      "outputs": [
        {
          "output_type": "display_data",
          "data": {
            "text/plain": [
              "<Figure size 600x600 with 1 Axes>"
            ],
            "image/png": "[encoded data removed]"
          },
          "metadata": {}
        }
      ]
    }
  ]
}